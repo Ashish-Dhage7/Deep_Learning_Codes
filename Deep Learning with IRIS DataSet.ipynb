{
 "cells": [
  {
   "cell_type": "code",
   "execution_count": 1,
   "metadata": {},
   "outputs": [],
   "source": [
    "from sklearn.datasets import load_iris\n",
    "from tensorflow.keras.models import Sequential\n",
    "from tensorflow.keras.layers import Dense\n",
    "from sklearn.preprocessing import StandardScaler, OneHotEncoder\n",
    "from sklearn.model_selection import train_test_split"
   ]
  },
  {
   "cell_type": "code",
   "execution_count": 2,
   "metadata": {},
   "outputs": [],
   "source": [
    "iris = load_iris()"
   ]
  },
  {
   "cell_type": "code",
   "execution_count": 3,
   "metadata": {},
   "outputs": [
    {
     "data": {
      "text/plain": [
       "dict_keys(['data', 'target', 'frame', 'target_names', 'DESCR', 'feature_names', 'filename'])"
      ]
     },
     "execution_count": 3,
     "metadata": {},
     "output_type": "execute_result"
    }
   ],
   "source": [
    "iris.keys()"
   ]
  },
  {
   "cell_type": "code",
   "execution_count": 4,
   "metadata": {},
   "outputs": [],
   "source": [
    "x = iris.data\n",
    "y = iris.target"
   ]
  },
  {
   "cell_type": "code",
   "execution_count": 5,
   "metadata": {},
   "outputs": [],
   "source": [
    "#### We have to Apply Standard Scaller----\n",
    "scaller = StandardScaler()\n",
    "x = scaller.fit_transform(x)"
   ]
  },
  {
   "cell_type": "code",
   "execution_count": 6,
   "metadata": {},
   "outputs": [],
   "source": [
    "### -> y"
   ]
  },
  {
   "cell_type": "code",
   "execution_count": 7,
   "metadata": {},
   "outputs": [],
   "source": [
    "y = y.reshape(-1, 1)"
   ]
  },
  {
   "cell_type": "code",
   "execution_count": 8,
   "metadata": {},
   "outputs": [],
   "source": [
    "Ohe = OneHotEncoder()"
   ]
  },
  {
   "cell_type": "code",
   "execution_count": 9,
   "metadata": {},
   "outputs": [],
   "source": [
    "Ohe = Ohe.fit_transform(y)"
   ]
  },
  {
   "cell_type": "code",
   "execution_count": 10,
   "metadata": {},
   "outputs": [],
   "source": [
    "y = Ohe.toarray()"
   ]
  },
  {
   "cell_type": "code",
   "execution_count": 11,
   "metadata": {},
   "outputs": [
    {
     "data": {
      "text/plain": [
       "array([[1., 0., 0.],\n",
       "       [1., 0., 0.],\n",
       "       [1., 0., 0.],\n",
       "       [1., 0., 0.]])"
      ]
     },
     "execution_count": 11,
     "metadata": {},
     "output_type": "execute_result"
    }
   ],
   "source": [
    "y[:4]"
   ]
  },
  {
   "cell_type": "code",
   "execution_count": 12,
   "metadata": {},
   "outputs": [],
   "source": [
    "trainX, testX, trainY, testY = train_test_split(x, y, test_size = 0.2)"
   ]
  },
  {
   "cell_type": "markdown",
   "metadata": {},
   "source": [
    "#### Deep Learning Model "
   ]
  },
  {
   "cell_type": "code",
   "execution_count": 13,
   "metadata": {},
   "outputs": [],
   "source": [
    "model = Sequential()\n",
    "model.add(Dense(30, activation = \"relu\", input_shape = (4,)))\n",
    "model.add(Dense(10, activation = \"relu\"))\n",
    "model.add(Dense(60, activation = \"relu\"))\n",
    "model.add(Dense(40, activation = \"relu\"))\n",
    "\n",
    "\n",
    "### Output Layer...\n",
    "model.add(Dense(3, activation = \"softmax\"))\n",
    "\n",
    "model.compile(loss=\"categorical_crossentropy\", optimizer = \"adam\", metrics=[\"accuracy\"])"
   ]
  },
  {
   "cell_type": "code",
   "execution_count": 14,
   "metadata": {},
   "outputs": [
    {
     "name": "stdout",
     "output_type": "stream",
     "text": [
      "Epoch 1/50\n",
      "1/1 [==============================] - 0s 166ms/step - loss: 1.0493 - accuracy: 0.3452 - val_loss: 0.9935 - val_accuracy: 0.4167\n",
      "Epoch 2/50\n",
      "1/1 [==============================] - 0s 6ms/step - loss: 1.0306 - accuracy: 0.3571 - val_loss: 0.9724 - val_accuracy: 0.4167\n",
      "Epoch 3/50\n",
      "1/1 [==============================] - 0s 20ms/step - loss: 1.0120 - accuracy: 0.3452 - val_loss: 0.9511 - val_accuracy: 0.5000\n",
      "Epoch 4/50\n",
      "1/1 [==============================] - 0s 24ms/step - loss: 0.9934 - accuracy: 0.3571 - val_loss: 0.9305 - val_accuracy: 0.5278\n",
      "Epoch 5/50\n",
      "1/1 [==============================] - 0s 17ms/step - loss: 0.9750 - accuracy: 0.4167 - val_loss: 0.9103 - val_accuracy: 0.5833\n",
      "Epoch 6/50\n",
      "1/1 [==============================] - 0s 21ms/step - loss: 0.9572 - accuracy: 0.5119 - val_loss: 0.8904 - val_accuracy: 0.6111\n",
      "Epoch 7/50\n",
      "1/1 [==============================] - 0s 22ms/step - loss: 0.9399 - accuracy: 0.5714 - val_loss: 0.8707 - val_accuracy: 0.6389\n",
      "Epoch 8/50\n",
      "1/1 [==============================] - 0s 19ms/step - loss: 0.9228 - accuracy: 0.6548 - val_loss: 0.8511 - val_accuracy: 0.6944\n",
      "Epoch 9/50\n",
      "1/1 [==============================] - 0s 20ms/step - loss: 0.9059 - accuracy: 0.6786 - val_loss: 0.8314 - val_accuracy: 0.7222\n",
      "Epoch 10/50\n",
      "1/1 [==============================] - 0s 18ms/step - loss: 0.8890 - accuracy: 0.6667 - val_loss: 0.8122 - val_accuracy: 0.7500\n",
      "Epoch 11/50\n",
      "1/1 [==============================] - 0s 20ms/step - loss: 0.8724 - accuracy: 0.6786 - val_loss: 0.7931 - val_accuracy: 0.7500\n",
      "Epoch 12/50\n",
      "1/1 [==============================] - 0s 19ms/step - loss: 0.8559 - accuracy: 0.6905 - val_loss: 0.7743 - val_accuracy: 0.7222\n",
      "Epoch 13/50\n",
      "1/1 [==============================] - 0s 19ms/step - loss: 0.8397 - accuracy: 0.7143 - val_loss: 0.7558 - val_accuracy: 0.7222\n",
      "Epoch 14/50\n",
      "1/1 [==============================] - 0s 18ms/step - loss: 0.8236 - accuracy: 0.7143 - val_loss: 0.7377 - val_accuracy: 0.7222\n",
      "Epoch 15/50\n",
      "1/1 [==============================] - 0s 21ms/step - loss: 0.8078 - accuracy: 0.7024 - val_loss: 0.7201 - val_accuracy: 0.7222\n",
      "Epoch 16/50\n",
      "1/1 [==============================] - 0s 19ms/step - loss: 0.7921 - accuracy: 0.7024 - val_loss: 0.7027 - val_accuracy: 0.7222\n",
      "Epoch 17/50\n",
      "1/1 [==============================] - 0s 20ms/step - loss: 0.7769 - accuracy: 0.7024 - val_loss: 0.6860 - val_accuracy: 0.7222\n",
      "Epoch 18/50\n",
      "1/1 [==============================] - 0s 16ms/step - loss: 0.7620 - accuracy: 0.6905 - val_loss: 0.6700 - val_accuracy: 0.7222\n",
      "Epoch 19/50\n",
      "1/1 [==============================] - 0s 19ms/step - loss: 0.7474 - accuracy: 0.6905 - val_loss: 0.6546 - val_accuracy: 0.7500\n",
      "Epoch 20/50\n",
      "1/1 [==============================] - 0s 18ms/step - loss: 0.7331 - accuracy: 0.6786 - val_loss: 0.6399 - val_accuracy: 0.7222\n",
      "Epoch 21/50\n",
      "1/1 [==============================] - 0s 20ms/step - loss: 0.7193 - accuracy: 0.6905 - val_loss: 0.6260 - val_accuracy: 0.7222\n",
      "Epoch 22/50\n",
      "1/1 [==============================] - 0s 19ms/step - loss: 0.7058 - accuracy: 0.6786 - val_loss: 0.6129 - val_accuracy: 0.7222\n",
      "Epoch 23/50\n",
      "1/1 [==============================] - 0s 17ms/step - loss: 0.6928 - accuracy: 0.6905 - val_loss: 0.6005 - val_accuracy: 0.7222\n",
      "Epoch 24/50\n",
      "1/1 [==============================] - 0s 20ms/step - loss: 0.6801 - accuracy: 0.6905 - val_loss: 0.5887 - val_accuracy: 0.7222\n",
      "Epoch 25/50\n",
      "1/1 [==============================] - 0s 20ms/step - loss: 0.6678 - accuracy: 0.7024 - val_loss: 0.5775 - val_accuracy: 0.7222\n",
      "Epoch 26/50\n",
      "1/1 [==============================] - 0s 19ms/step - loss: 0.6559 - accuracy: 0.7024 - val_loss: 0.5670 - val_accuracy: 0.7222\n",
      "Epoch 27/50\n",
      "1/1 [==============================] - 0s 22ms/step - loss: 0.6443 - accuracy: 0.7024 - val_loss: 0.5570 - val_accuracy: 0.7222\n",
      "Epoch 28/50\n",
      "1/1 [==============================] - 0s 20ms/step - loss: 0.6330 - accuracy: 0.7024 - val_loss: 0.5475 - val_accuracy: 0.7222\n",
      "Epoch 29/50\n",
      "1/1 [==============================] - 0s 18ms/step - loss: 0.6219 - accuracy: 0.7143 - val_loss: 0.5384 - val_accuracy: 0.7222\n",
      "Epoch 30/50\n",
      "1/1 [==============================] - 0s 20ms/step - loss: 0.6113 - accuracy: 0.7262 - val_loss: 0.5298 - val_accuracy: 0.7222\n",
      "Epoch 31/50\n",
      "1/1 [==============================] - 0s 16ms/step - loss: 0.6008 - accuracy: 0.7262 - val_loss: 0.5215 - val_accuracy: 0.7222\n",
      "Epoch 32/50\n",
      "1/1 [==============================] - 0s 19ms/step - loss: 0.5907 - accuracy: 0.7381 - val_loss: 0.5136 - val_accuracy: 0.7222\n",
      "Epoch 33/50\n",
      "1/1 [==============================] - 0s 20ms/step - loss: 0.5808 - accuracy: 0.7381 - val_loss: 0.5060 - val_accuracy: 0.7222\n",
      "Epoch 34/50\n",
      "1/1 [==============================] - 0s 19ms/step - loss: 0.5711 - accuracy: 0.7381 - val_loss: 0.4985 - val_accuracy: 0.7222\n",
      "Epoch 35/50\n",
      "1/1 [==============================] - 0s 20ms/step - loss: 0.5616 - accuracy: 0.7381 - val_loss: 0.4910 - val_accuracy: 0.7222\n",
      "Epoch 36/50\n",
      "1/1 [==============================] - 0s 16ms/step - loss: 0.5521 - accuracy: 0.7381 - val_loss: 0.4834 - val_accuracy: 0.7222\n",
      "Epoch 37/50\n",
      "1/1 [==============================] - 0s 19ms/step - loss: 0.5426 - accuracy: 0.7381 - val_loss: 0.4761 - val_accuracy: 0.7222\n",
      "Epoch 38/50\n",
      "1/1 [==============================] - 0s 19ms/step - loss: 0.5330 - accuracy: 0.7619 - val_loss: 0.4691 - val_accuracy: 0.7222\n",
      "Epoch 39/50\n",
      "1/1 [==============================] - 0s 22ms/step - loss: 0.5237 - accuracy: 0.7619 - val_loss: 0.4624 - val_accuracy: 0.7222\n",
      "Epoch 40/50\n",
      "1/1 [==============================] - 0s 19ms/step - loss: 0.5146 - accuracy: 0.7619 - val_loss: 0.4559 - val_accuracy: 0.7222\n",
      "Epoch 41/50\n",
      "1/1 [==============================] - 0s 22ms/step - loss: 0.5056 - accuracy: 0.7738 - val_loss: 0.4495 - val_accuracy: 0.7500\n",
      "Epoch 42/50\n",
      "1/1 [==============================] - 0s 20ms/step - loss: 0.4966 - accuracy: 0.7976 - val_loss: 0.4430 - val_accuracy: 0.7500\n",
      "Epoch 43/50\n",
      "1/1 [==============================] - 0s 20ms/step - loss: 0.4877 - accuracy: 0.8095 - val_loss: 0.4367 - val_accuracy: 0.7500\n",
      "Epoch 44/50\n",
      "1/1 [==============================] - 0s 21ms/step - loss: 0.4787 - accuracy: 0.8095 - val_loss: 0.4303 - val_accuracy: 0.7500\n",
      "Epoch 45/50\n",
      "1/1 [==============================] - 0s 20ms/step - loss: 0.4697 - accuracy: 0.8095 - val_loss: 0.4241 - val_accuracy: 0.7778\n",
      "Epoch 46/50\n",
      "1/1 [==============================] - 0s 16ms/step - loss: 0.4608 - accuracy: 0.8214 - val_loss: 0.4179 - val_accuracy: 0.7778\n",
      "Epoch 47/50\n",
      "1/1 [==============================] - 0s 20ms/step - loss: 0.4518 - accuracy: 0.8333 - val_loss: 0.4115 - val_accuracy: 0.7778\n",
      "Epoch 48/50\n",
      "1/1 [==============================] - 0s 21ms/step - loss: 0.4428 - accuracy: 0.8333 - val_loss: 0.4047 - val_accuracy: 0.7778\n",
      "Epoch 49/50\n",
      "1/1 [==============================] - 0s 21ms/step - loss: 0.4339 - accuracy: 0.8333 - val_loss: 0.3980 - val_accuracy: 0.7778\n",
      "Epoch 50/50\n",
      "1/1 [==============================] - 0s 19ms/step - loss: 0.4252 - accuracy: 0.8333 - val_loss: 0.3914 - val_accuracy: 0.7778\n"
     ]
    }
   ],
   "source": [
    "H = model.fit(trainX, trainY, validation_split=0.3, epochs=50, batch_size = len(trainY))"
   ]
  },
  {
   "cell_type": "code",
   "execution_count": 15,
   "metadata": {},
   "outputs": [],
   "source": [
    "loss = H.history[\"loss\"]\n",
    "val_loss = H.history[\"val_loss\"]\n",
    "accuracy = H.history[\"accuracy\"]\n",
    "val_accuracy = H.history[\"val_accuracy\"]"
   ]
  },
  {
   "cell_type": "code",
   "execution_count": 16,
   "metadata": {},
   "outputs": [
    {
     "data": {
      "image/png": "[encoded data removed]",
      "text/plain": [
       "<Figure size 432x288 with 1 Axes>"
      ]
     },
     "metadata": {
      "needs_background": "light"
     },
     "output_type": "display_data"
    }
   ],
   "source": [
    "import pandas as pd\n",
    "import matplotlib.pyplot as plt\n",
    "tva = pd.DataFrame({\n",
    "    \"Ta\":accuracy,\n",
    "    \"Va\":val_accuracy\n",
    "})\n",
    "tva.boxplot()\n",
    "plt.show()"
   ]
  },
  {
   "cell_type": "code",
   "execution_count": 17,
   "metadata": {},
   "outputs": [
    {
     "name": "stdout",
     "output_type": "stream",
     "text": [
      "WARNING:tensorflow:From <ipython-input-17-da667838c770>:1: Sequential.predict_classes (from tensorflow.python.keras.engine.sequential) is deprecated and will be removed after 2021-01-01.\n",
      "Instructions for updating:\n",
      "Please use instead:* `np.argmax(model.predict(x), axis=-1)`,   if your model does multi-class classification   (e.g. if it uses a `softmax` last-layer activation).* `(model.predict(x) > 0.5).astype(\"int32\")`,   if your model does binary classification   (e.g. if it uses a `sigmoid` last-layer activation).\n"
     ]
    },
    {
     "data": {
      "text/plain": [
       "array([2], dtype=int64)"
      ]
     },
     "execution_count": 17,
     "metadata": {},
     "output_type": "execute_result"
    }
   ],
   "source": [
    "model.predict_classes(testX[1:2])"
   ]
  },
  {
   "cell_type": "code",
   "execution_count": 18,
   "metadata": {},
   "outputs": [
    {
     "data": {
      "text/plain": [
       "array([[0., 0., 1.]])"
      ]
     },
     "execution_count": 18,
     "metadata": {},
     "output_type": "execute_result"
    }
   ],
   "source": [
    "testY[1:2]"
   ]
  },
  {
   "cell_type": "code",
   "execution_count": 19,
   "metadata": {},
   "outputs": [
    {
     "name": "stdout",
     "output_type": "stream",
     "text": [
      "1/1 [==============================] - 0s 1ms/step - loss: 0.4709 - accuracy: 0.8333\n"
     ]
    }
   ],
   "source": [
    "loss, Acc = model.evaluate(testX, testY)"
   ]
  },
  {
   "cell_type": "code",
   "execution_count": 20,
   "metadata": {},
   "outputs": [
    {
     "data": {
      "text/plain": [
       "0.8333333134651184"
      ]
     },
     "execution_count": 20,
     "metadata": {},
     "output_type": "execute_result"
    }
   ],
   "source": [
    "Acc"
   ]
  }
 ],
 "metadata": {
  "kernelspec": {
   "display_name": "Python 3",
   "language": "python",
   "name": "python3"
  },
  "language_info": {
   "codemirror_mode": {
    "name": "ipython",
    "version": 3
   },
   "file_extension": ".py",
   "mimetype": "text/x-python",
   "name": "python",
   "nbconvert_exporter": "python",
   "pygments_lexer": "ipython3",
   "version": "3.8.3"
  }
 },
 "nbformat": 4,
 "nbformat_minor": 4
}
